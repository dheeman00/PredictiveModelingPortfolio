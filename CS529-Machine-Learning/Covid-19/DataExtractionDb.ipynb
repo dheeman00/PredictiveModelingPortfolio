{
 "cells": [
  {
   "cell_type": "code",
   "execution_count": 1,
   "metadata": {},
   "outputs": [],
   "source": [
    "import pandasql as ps\n",
    "import pandas as pd\n",
    "import numpy as np\n",
    "from pyspark import SparkContext\n",
    "from pyspark.sql.types import StringType\n",
    "from pyspark import SQLContext\n",
    "import time\n",
    "import csv"
   ]
  },
  {
   "cell_type": "code",
   "execution_count": null,
   "metadata": {},
   "outputs": [],
   "source": [
    "##In this script all the dataset are extracted from the database"
   ]
  },
  {
   "cell_type": "code",
   "execution_count": null,
   "metadata": {},
   "outputs": [],
   "source": [
    "spark.sql(\"SHOW databases\").show()\n",
    "spark.sql(\"USE covid_2020_q2jun\")\n",
    "spark.sql(\"show tables\").show()"
   ]
  },
  {
   "cell_type": "code",
   "execution_count": null,
   "metadata": {},
   "outputs": [],
   "source": [
    "+--------------------+\n",
    "|        databaseName|\n",
    "+--------------------+\n",
    "|christianacare_in...|\n",
    "|       covid_2020_q2|\n",
    "|    covid_2020_q2apr|\n",
    "|    covid_2020_q2jun|\n",
    "|             default|\n",
    "|immersion_day_exa...|\n",
    "|             pankush|\n",
    "+--------------------+\n",
    "\n",
    "+----------------+--------------------+-----------+\n",
    "|        database|           tableName|isTemporary|\n",
    "+----------------+--------------------+-----------+\n",
    "|covid_2020_q2jun|           condition|      false|\n",
    "|covid_2020_q2jun|          covid_labs|      false|\n",
    "|covid_2020_q2jun|           demo_temp|      false|\n",
    "|covid_2020_q2jun|        demographics|      false|\n",
    "|covid_2020_q2jun|           encounter|      false|\n",
    "|covid_2020_q2jun|  med_rec_compliance|      false|\n",
    "|covid_2020_q2jun|          medication|      false|\n",
    "|covid_2020_q2jun|multum_dnum_refer...|      false|\n",
    "|covid_2020_q2jun|multum_drug_categ...|      false|\n",
    "|covid_2020_q2jun|multum_drug_categ...|      false|\n",
    "|covid_2020_q2jun|njms_covid_demo_e...|      false|\n",
    "|covid_2020_q2jun|njms_covid_demo_e...|      false|\n",
    "|covid_2020_q2jun|           njms_demo|      false|\n",
    "|covid_2020_q2jun|           procedure|      false|\n",
    "|covid_2020_q2jun|              result|      false|\n",
    "+----------------+--------------------+-----------+"
   ]
  },
  {
   "cell_type": "code",
   "execution_count": null,
   "metadata": {},
   "outputs": [],
   "source": [
    "#extract the demographic\n",
    "df_demographics = spark.sql(\"\"\"SELECT  *  from demographics\"\"\").toPandas()"
   ]
  },
  {
   "cell_type": "code",
   "execution_count": null,
   "metadata": {},
   "outputs": [],
   "source": [
    "df_demographics.info()"
   ]
  },
  {
   "cell_type": "code",
   "execution_count": null,
   "metadata": {},
   "outputs": [],
   "source": [
    "<class 'pandas.core.frame.DataFrame'>\n",
    "RangeIndex: 117496 entries, 0 to 117495\n",
    "Data columns (total 7 columns):\n",
    "tenant       117496 non-null object\n",
    "personid     117496 non-null object\n",
    "gender       117496 non-null object\n",
    "race         117496 non-null object\n",
    "ethnicity    117496 non-null object\n",
    "zip_code     117496 non-null object\n",
    "deceased     117496 non-null int32\n",
    "dtypes: int32(1), object(6)\n",
    "memory usage: 5.8+ MB"
   ]
  },
  {
   "cell_type": "code",
   "execution_count": null,
   "metadata": {},
   "outputs": [],
   "source": [
    "df_demographics_selected = df_demographics[['personid', 'gender', 'race', 'ethnicity', 'deceased']]"
   ]
  },
  {
   "cell_type": "code",
   "execution_count": null,
   "metadata": {},
   "outputs": [],
   "source": [
    "df_demographics_selected.to_csv('df_demographics_selected.csv',index=False, encoding='utf-8', quoting=csv.QUOTE_NONNUMERIC)"
   ]
  },
  {
   "cell_type": "code",
   "execution_count": null,
   "metadata": {},
   "outputs": [],
   "source": [
    "#extract the covid table\n",
    "df_covid_labs = spark.sql(\"\"\"SELECT  *  from covid_labs\"\"\").toPandas()"
   ]
  },
  {
   "cell_type": "code",
   "execution_count": null,
   "metadata": {},
   "outputs": [],
   "source": [
    "df_covid_labs.info()\n",
    "<class 'pandas.core.frame.DataFrame'>\n",
    "RangeIndex: 146105 entries, 0 to 146104\n",
    "Data columns (total 11 columns):\n",
    "tenant               146105 non-null object\n",
    "personid             146105 non-null object\n",
    "encounterid          146105 non-null object\n",
    "resultid             146105 non-null object\n",
    "servicedate          146105 non-null object\n",
    "codetype             146105 non-null object\n",
    "labcode              146105 non-null object\n",
    "labtest              146105 non-null object\n",
    "result               146105 non-null object\n",
    "pos_cvd19_lab_ind    146105 non-null int32\n",
    "encountertype        144893 non-null object\n",
    "dtypes: int32(1), object(10)\n",
    "memory usage: 11.7+ MB"
   ]
  },
  {
   "cell_type": "code",
   "execution_count": null,
   "metadata": {},
   "outputs": [],
   "source": [
    "df_covid_labs_selected = df_covid_labs[['personid', 'resultid', 'servicedate', 'result', 'pos_cvd19_lab_ind', 'encountertype']] "
   ]
  },
  {
   "cell_type": "code",
   "execution_count": null,
   "metadata": {},
   "outputs": [],
   "source": [
    "df_covid_labs_selected.to_csv('df_covid_labs_selected.csv',index=False, encoding='utf-8', quoting=csv.QUOTE_NONNUMERIC)"
   ]
  },
  {
   "cell_type": "code",
   "execution_count": null,
   "metadata": {},
   "outputs": [],
   "source": [
    "df_covid_labs['result'].value_counts()\n",
    "\n",
    "Negative         100098\n",
    "Positive          41870\n",
    "Unknown            3476\n",
    "Not done            624\n",
    "Indeterminate        37\n",
    "Name: result, dtype: int64"
   ]
  },
  {
   "cell_type": "code",
   "execution_count": null,
   "metadata": {},
   "outputs": [],
   "source": [
    "df_covid_labs['pos_cvd19_lab_ind'].value_counts()\n",
    "\n",
    "0    106667\n",
    "1     39438\n",
    "Name: pos_cvd19_lab_ind, dtype: int64"
   ]
  },
  {
   "cell_type": "code",
   "execution_count": null,
   "metadata": {},
   "outputs": [],
   "source": [
    "df_demographicWithCovid= df_demographics_selected.loc[df_demographics_selected['personid'].isin(df_covid_labs['personid'])]"
   ]
  },
  {
   "cell_type": "code",
   "execution_count": null,
   "metadata": {},
   "outputs": [],
   "source": [
    "df_demographicWithCovid.shape\n",
    "(66455, 5)"
   ]
  },
  {
   "cell_type": "code",
   "execution_count": null,
   "metadata": {},
   "outputs": [],
   "source": [
    "print(df_covid_labs_selected.columns)\n",
    "print(df_demographics_selected.columns)\n",
    "df_demographicWithCovid.to_csv('df_demographicWithCovid.csv',index=False, encoding='utf-8', quoting=csv.QUOTE_NONNUMERIC)"
   ]
  },
  {
   "cell_type": "code",
   "execution_count": null,
   "metadata": {},
   "outputs": [],
   "source": [
    "Index(['personid', 'resultid', 'servicedate', 'result', 'pos_cvd19_lab_ind',\n",
    "       'encountertype'],\n",
    "      dtype='object')\n",
    "Index(['personid', 'gender', 'race', 'ethnicity', 'deceased'], dtype='object')"
   ]
  },
  {
   "cell_type": "code",
   "execution_count": null,
   "metadata": {},
   "outputs": [],
   "source": [
    "test=df_covidPatients_personID[0:10000]"
   ]
  },
  {
   "cell_type": "code",
   "execution_count": null,
   "metadata": {},
   "outputs": [],
   "source": [
    "##updated code for Aaron to Run"
   ]
  },
  {
   "cell_type": "code",
   "execution_count": null,
   "metadata": {},
   "outputs": [],
   "source": [
    "#complete personID with Covid\n",
    "df_covidPatients_personID.to_csv('df_covidPatients_personID.csv', index=False, encoding='utf-8', quoting=csv.QUOTE_NONNUMERIC)"
   ]
  },
  {
   "cell_type": "code",
   "execution_count": null,
   "metadata": {},
   "outputs": [],
   "source": [
    "selected_personID = df_covidPatients_personID[1000:2000]"
   ]
  },
  {
   "cell_type": "code",
   "execution_count": null,
   "metadata": {},
   "outputs": [],
   "source": [
    "counter = 0\n",
    "start_time = time.time()\n",
    "#create an Empty DataFrame object\n",
    "df_covid_from_condition_table_2000 = pd.DataFrame()\n",
    "for id in selected_personID:\n",
    "    #print(id)\n",
    "    query = \"SELECT personid, conditioncode, condition, classification from condition WHERE personid='{}'\".format(id)\n",
    "    df_id = sqlContext.sql(query).toPandas()\n",
    "    df_covid_from_condition_table_2000 = pd.concat([df_covid_from_condition_table_2000,df_id])\n",
    "    counter = counter + 1\n",
    "    if(counter%1000 == 0):\n",
    "        print(\"Counter Number: {0}\".format(counter))\n",
    "print(\"Counter Number: {0}\".format(counter))\n",
    "print(\"Time: {0}\".format(time.time()-start_time))"
   ]
  },
  {
   "cell_type": "code",
   "execution_count": null,
   "metadata": {},
   "outputs": [],
   "source": [
    "df_covid_from_condition_table_2000.to_csv('df_covid_from_condition_table_2000.csv',index=False, encoding='utf-8', quoting=csv.QUOTE_NONNUMERIC)"
   ]
  },
  {
   "cell_type": "code",
   "execution_count": null,
   "metadata": {},
   "outputs": [],
   "source": [
    "##updated code to run for Aaron 11/12/20\n",
    "selected_personID = df_covidPatients_personID[0:1000]"
   ]
  },
  {
   "cell_type": "code",
   "execution_count": null,
   "metadata": {},
   "outputs": [],
   "source": [
    "#collecting the 1st 1000 from medication, procedure, and result\n",
    "\n",
    "counter = 0\n",
    "start_time = time.time()\n",
    "#create an Empty DataFrame object\n",
    "df_covid_from_condition_table_6000 = pd.DataFrame()\n",
    "df_covid_from_medication_table_6000 = pd.DataFrame()\n",
    "df_covid_from_procedure_table_6000 = pd.DataFrame()\n",
    "df_covid_from_result_table_6000 = pd.DataFrame()\n",
    "\n",
    "for id in selected_personID:\n",
    "    #print(id)\n",
    "    \n",
    "    \"\"\"\n",
    "    #table: condition\n",
    "    query = \"SELECT personid, conditioncode, condition, classification from condition WHERE personid='{}'\".format(id)\n",
    "    df_id = sqlContext.sql(query).toPandas()\n",
    "    df_covid_from_condition_table_6000 = pd.concat([df_covid_from_condition_table_6000,df_id])\n",
    "    \"\"\"\n",
    "    \"\"\"\n",
    "    #table: medication\n",
    "    query_1 = \"SELECT personid, startdate, stopdate, drug, dosequantity, doseunit, route, frequency, asneeded, status from medication WHERE personid='{}'\".format(id)\n",
    "    df_id_1 = sqlContext.sql(query).toPandas()\n",
    "    df_covid_from_medication_table_6000 = pd.concat([df_covid_from_medication_table_6000,df_id_1])\n",
    "    \"\"\"\n",
    "    \n",
    "    #table: procedure\n",
    "    query_2 = \"SELECT personid, codetype, procedurecode, procedure, servicestartdate, serviceenddate from procedure WHERE personid='{}' AND year(servicestartdate) = 2020\".format(id)\n",
    "    df_id_2 = sqlContext.sql(query_2).toPandas()\n",
    "    df_covid_from_procedure_table_6000 = pd.concat([df_covid_from_procedure_table_6000,df_id_2])\n",
    "    \n",
    "    #table: result\n",
    "    query_3 = \"SELECT personid, result, textvalue, numericvalue, numericvaluemodifier, unitofmeasure, servicedate from result WHERE personid='{}' AND  year(servicedate) = 2020\".format(id)\n",
    "    df_id_3 = sqlContext.sql(query_3).toPandas()\n",
    "    df_covid_from_result_table_6000 = pd.concat([df_covid_from_result_table_6000,df_id_3])\n",
    "\n",
    "    \n",
    "    \n",
    "    counter = counter + 1\n",
    "    if(counter%100 == 0):\n",
    "        print(\"Counter Number: {0}\".format(counter))\n",
    "print(\"Counter Number: {0}\".format(counter))\n",
    "print(\"Time: {0}\".format(time.time()-start_time))\n",
    "\n",
    "# Save output in csv\n",
    "#df_covid_from_condition_table_6000.to_csv('df_covid_from_condition_table_6000.csv',index=False, encoding='utf-8', quoting=csv.QUOTE_NONNUMERIC)\n",
    "#df_covid_from_medication_table_6000.to_csv('df_covid_from_medication_table_6000.csv',index=False, encoding='utf-8', quoting=csv.QUOTE_NONNUMERIC)\n",
    "df_covid_from_procedure_table_6000.to_csv('df_covid_from_procedure_table_6000.csv',index=False, encoding='utf-8', quoting=csv.QUOTE_NONNUMERIC)\n",
    "df_covid_from_result_table_6000.to_csv('df_covid_from_result_table_6000.csv',index=False, encoding='utf-8', quoting=csv.QUOTE_NONNUMERIC)"
   ]
  },
  {
   "cell_type": "code",
   "execution_count": null,
   "metadata": {},
   "outputs": [],
   "source": [
    "#########################################################################################\n",
    "#Just Run the above for loop \n",
    "#below is the seperated parts"
   ]
  },
  {
   "cell_type": "code",
   "execution_count": null,
   "metadata": {},
   "outputs": [],
   "source": [
    "\n",
    "#collecting the 1st 1000 from medication\n",
    "\n",
    "counter = 0\n",
    "start_time = time.time()\n",
    "#create an Empty DataFrame object\n",
    "df_covid_from_medication_table_1000 = pd.DataFrame()\n",
    "for id in selected_personID:\n",
    "    #print(id)\n",
    "    query = \"SELECT personid, startdate, stopdate, drug, dosequantity, doseunit, route, frequency, asneeded, status from medication WHERE personid='{}'\".format(id)\n",
    "    df_id = sqlContext.sql(query).toPandas()\n",
    "    df_covid_from_medication_table_1000 = pd.concat([df_covid_from_medication_table_1000,df_id])\n",
    "    counter = counter + 1\n",
    "    if(counter%100 == 0):\n",
    "        print(\"Counter Number: {0}\".format(counter))\n",
    "print(\"Counter Number: {0}\".format(counter))\n",
    "print(\"Time: {0}\".format(time.time()-start_time))\n",
    "df_covid_from_medication_table_1000.to_csv('df_covid_from_medication_table_1000.csv',index=False, encoding='utf-8', quoting=csv.QUOTE_NONNUMERIC)\n"
   ]
  },
  {
   "cell_type": "code",
   "execution_count": null,
   "metadata": {},
   "outputs": [],
   "source": [
    "#collecting the 1st 1000 from procedure\n",
    "\n",
    "counter = 0\n",
    "start_time = time.time()\n",
    "#create an Empty DataFrame object\n",
    "df_covid_from_procedure_table_1000 = pd.DataFrame()\n",
    "for id in selected_personID:\n",
    "    #print(id)\n",
    "    query = \"SELECT personid, codetype, procedurecode, procedure, servicestartdate, serviceenddate from procedure WHERE personid='{}'\".format(id)\n",
    "    df_id = sqlContext.sql(query).toPandas()\n",
    "    df_covid_from_procedure_table_1000 = pd.concat([df_covid_from_procedure_table_1000,df_id])\n",
    "    counter = counter + 1\n",
    "    if(counter%100 == 0):\n",
    "        print(\"Counter Number: {0}\".format(counter))\n",
    "print(\"Counter Number: {0}\".format(counter))\n",
    "print(\"Time: {0}\".format(time.time()-start_time))\n",
    "df_covid_from_procedure_table_1000.to_csv('df_covid_from_procedure_table_1000.csv',index=False, encoding='utf-8', quoting=csv.QUOTE_NONNUMERIC)\n"
   ]
  },
  {
   "cell_type": "code",
   "execution_count": null,
   "metadata": {},
   "outputs": [],
   "source": [
    "#collecting the 1st 1000 from result\n",
    "\n",
    "counter = 0\n",
    "start_time = time.time()\n",
    "#create an Empty DataFrame object\n",
    "df_covid_from_result_table_1000 = pd.DataFrame()\n",
    "for id in selected_personID:\n",
    "    #print(id)\n",
    "    query = \"SELECT personid, codetype, result, textvalue, numericvalue, numericvaluemodifier, unitofmeasure from result WHERE personid='{}'\".format(id)\n",
    "    df_id = sqlContext.sql(query).toPandas()\n",
    "    df_covid_from_result_table_1000 = pd.concat([df_covid_from_result_table_1000,df_id])\n",
    "    counter = counter + 1\n",
    "    if(counter%100 == 0):\n",
    "        print(\"Counter Number: {0}\".format(counter))\n",
    "print(\"Counter Number: {0}\".format(counter))\n",
    "print(\"Time: {0}\".format(time.time()-start_time))\n",
    "df_covid_from_result_table_1000.to_csv('df_covid_from_result_table_1000.csv',index=False, encoding='utf-8', quoting=csv.QUOTE_NONNUMERIC)\n",
    "\n",
    "\n"
   ]
  },
  {
   "cell_type": "code",
   "execution_count": null,
   "metadata": {},
   "outputs": [],
   "source": [
    "#information extracted from medication table\n",
    "# df_medication.info()\n",
    "# <class 'pandas.core.frame.DataFrame'>\n",
    "# RangeIndex: 10000 entries, 0 to 9999\n",
    "# Data columns (total 15 columns):\n",
    "\n",
    "# personid        10000 non-null object\n",
    "\n",
    "\n",
    "# startdate       10000 non-null object\n",
    "# stopdate        10000 non-null object\n",
    "\n",
    "# drug            10000 non-null object\n",
    "# dosequantity    8921 non-null object\n",
    "# doseunit        8916 non-null object\n",
    "# route           9510 non-null object\n",
    "# frequency       8516 non-null object\n",
    "# asneeded        10000 non-null bool\n",
    "# status          10000 non-null object\n",
    "\n",
    "\n",
    "\n",
    "# df_procedure.info()\n",
    "# <class 'pandas.core.frame.DataFrame'>\n",
    "# RangeIndex: 692403 entries, 0 to 692402\n",
    "# Data columns (total 10 columns):\n",
    "\n",
    "# personid            692403 non-null object\n",
    "\n",
    "\n",
    "# codetype            692403 non-null object\n",
    "# procedurecode       692403 non-null object\n",
    "# procedure           692403 non-null object\n",
    "# servicestartdate    692403 non-null object\n",
    "# serviceenddate      692403 non-null object\n",
    "\n",
    "\n",
    "\n"
   ]
  },
  {
   "cell_type": "code",
   "execution_count": null,
   "metadata": {},
   "outputs": [],
   "source": []
  },
  {
   "cell_type": "markdown",
   "metadata": {},
   "source": [
    "Remaining tables to be created"
   ]
  },
  {
   "cell_type": "code",
   "execution_count": null,
   "metadata": {},
   "outputs": [],
   "source": [
    "\n",
    "selected_personID=df_covidPatients_personID[3000:3100] #testing for 100 USERS\n",
    "\n",
    "RequiredResultColumn = ('Respiratory rate', 'Heart rate', 'Systolic blood pressure', 'Diastolic blood pressure',\n",
    "                        'Non-invasive mean arterial pressure', 'Body temperature', 'Oxygen saturation in Blood',\n",
    "                        'Inhaled oxygen concentration', 'Inhaled oxygen flow rate', 'Oxygen therapy',\n",
    "                        'Oxygen/Inspired gas setting [Volume Fraction] Ventilator', \n",
    "                        'Cholesterol [Mass/volume] in Serum or Plasma',\n",
    "                        'Cholesterol.total/Cholesterol in HDL [Mass Ratio] in Serum or Plasma',\n",
    "                        'Cholesterol in LDL [Mass/volume] in Serum or Plasma by Direct assay',\n",
    "                        'Triglyceride [Mass/volume] in Body fluid', \n",
    "                        'Hemoglobin A1c/Hemoglobin.total in Blood by HPLC',\n",
    "                        'Protein [Mass/volume] in Body fluid', 'Albumin [Mass/volume] in Urine',\n",
    "                        'Aspartate aminotransferase [Enzymatic activity/volume] in Serum or Plasma',\n",
    "                        'Alanine aminotransferase [Enzymatic activity/volume] in Serum or Plasma',\n",
    "                        'Alkaline phosphatase.bone [Mass/volume] in Serum or Plasma',\n",
    "                        'Bilirubin.total [Mass/volume] in Blood',\n",
    "                        'Bilirubin.direct [Moles/volume] in Serum or Plasma',\n",
    "                        'Troponin T.cardiac [Mass/volume] in Serum or Plasma',\n",
    "                        'Troponin I.cardiac [Units/volume] in Serum or Plasma',\n",
    "                        'Troponin I.cardiac [Mass/volume] in Serum or Plasma by High sensitivity method',\n",
    "                        'Natriuretic peptide B [Mass/volume] in Blood',\n",
    "                        'Urate [Mass/volume] in Urine',    \n",
    "                        'C reactive protein [Mass/volume] in Serum or Plasma',\n",
    "                        'INR in Blood by Coagulation assay',\n",
    "                        'Prothrombin time (PT) in Blood by Coagulation assay',\n",
    "                        'aPTT in Blood by Coagulation assay', \n",
    "                        'Ferritin [Mass/volume] in Serum or Plasma',\n",
    "                        'Fibrin D-dimer FEU [Mass/volume] in Platelet poor plasma',\n",
    "                        'Fibrin D-dimer FEU [Mass/volume] in Blood by Immunoassay',\n",
    "                        'Fibrin D-dimer DDU [Mass/volume] in Platelet poor plasma',\n",
    "                        'Fibrin D-dimer [Units/volume] in Platelet poor plasma',\n",
    "                        'Leukocytes [#/volume] in Blood',\n",
    "                        'Neutrophils [#/volume] in Blood',\n",
    "                        'Lymphocytes [#/volume] in Blood',\n",
    "                        'Erythrocytes [#/volume] in Blood',\n",
    "                        'Hematocrit [Volume Fraction] of Blood',\n",
    "                        'Hemoglobin [Mass/volume] in Blood',\n",
    "                        'MCH [Entitic mass]', 'MCV [Entitic volume]', 'Platelets [#/volume] in Blood',\n",
    "                        'Creatinine [Mass/volume] in Blood', 'Urea nitrogen [Mass/volume] in Blood',\n",
    "                        'Sodium [Moles/volume] in Blood', \n",
    "                        'Potassium [Moles/volume] in Blood',\n",
    "                        'Magnesium [Mass/volume] in Serum or Plasma',\n",
    "                        'Calcium [Mass/volume] in Serum or Plasma',\n",
    "                        'Calcium.ionized [Mass/volume] in Blood',\n",
    "                        '25-Hydroxyvitamin D2+25-Hydroxyvitamin D3 [Mass/volume] in Serum or Plasma',\n",
    "                        'Ammonia [Mass/volume] in Plasma',\n",
    "                        'Creatine kinase [Enzymatic activity/volume] in Serum or Plasma',\n",
    "                        'Influenza virus A Ab [Presence] in Serum by Immunoassay',\n",
    "                        'Influenza virus B Ab [Presence] in Serum by Immunoassay',\n",
    "                        'Respiratory syncytial virus Ag [Presence] in Unspecified specimen]')"
   ]
  },
  {
   "cell_type": "code",
   "execution_count": null,
   "metadata": {},
   "outputs": [],
   "source": [
    "#collecting the 1st 100 from medication, procedure, and result\n",
    "\n",
    "counter = 0\n",
    "start_time = time.time()\n",
    "#create an Empty DataFrame object\n",
    "df_covid_from_condition_table_6000 = pd.DataFrame() #Change Name \n",
    "df_covid_from_medication_table_6000 = pd.DataFrame() #Change Name\n",
    "df_covid_from_procedure_table_6000 = pd.DataFrame() #Change Name\n",
    "df_covid_from_result_table_6000 = pd.DataFrame() #Change Name\n",
    "\n",
    "for id in selected_personID:\n",
    "    #print(id)\n",
    "    \n",
    "    \"\"\"\n",
    "    #table: condition\n",
    "    query = \"SELECT personid, conditioncode, condition, classification from condition WHERE personid='{}'\".format(id)\n",
    "    df_id = sqlContext.sql(query).toPandas() \n",
    "    df_covid_from_condition_table_6000 = pd.concat([df_covid_from_condition_table_6000,df_id]) #Change Name\n",
    "    \"\"\"\n",
    "    \"\"\"\n",
    "    #table: medication\n",
    "    query_1 = \"SELECT personid, startdate, stopdate, drug, dosequantity, doseunit, route, frequency, asneeded, status from medication WHERE personid='{}'\".format(id)\n",
    "    df_id_1 = sqlContext.sql(query).toPandas()\n",
    "    df_covid_from_medication_table_6000 = pd.concat([df_covid_from_medication_table_6000,df_id_1]) #Change Name\n",
    "    \"\"\"\n",
    "    \"\"\"\n",
    "    #table: procedure\n",
    "    query_2 = \"SELECT personid, codetype, procedurecode, procedure, servicestartdate, serviceenddate from procedure WHERE personid='{}' AND year(servicestartdate) = 2020\".format(id)\n",
    "    df_id_2 = sqlContext.sql(query_2).toPandas()\n",
    "    df_covid_from_procedure_table_6000 = pd.concat([df_covid_from_procedure_table_6000,df_id_2]) #Change Name\n",
    "    \"\"\"\n",
    "    \n",
    "    #table: result\n",
    "    query_3 = \"SELECT personid, result, textvalue, numericvalue, numericvaluemodifier, unitofmeasure, servicedate from result WHERE personid='{0}' AND  year(servicedate) = 2020 AND result IN {1}\".format(id, RequiredResultColumn)\n",
    "    df_id_3 = sqlContext.sql(query_3).toPandas()\n",
    "    df_covid_from_result_table_6000 = pd.concat([df_covid_from_result_table_6000,df_id_3]) #Change Name\n",
    "\n",
    "    \n",
    "    \n",
    "    counter = counter + 1\n",
    "    if(counter%100 == 0):\n",
    "        print(\"Counter Number: {0}\".format(counter))\n",
    "print(\"Counter Number: {0}\".format(counter))\n",
    "print(\"Time: {0}\".format(time.time()-start_time))\n",
    "\n",
    "# Save output in csv\n",
    "#Change Names Here\n",
    "#df_covid_from_condition_table_6000.to_csv('df_covid_from_condition_table_6000.csv',index=False, encoding='utf-8', quoting=csv.QUOTE_NONNUMERIC)\n",
    "#df_covid_from_medication_table_6000.to_csv('df_covid_from_medication_table_6000.csv',index=False, encoding='utf-8', quoting=csv.QUOTE_NONNUMERIC)\n",
    "#df_covid_from_procedure_table_6000.to_csv('df_covid_from_procedure_table_6000.csv',index=False, encoding='utf-8', quoting=csv.QUOTE_NONNUMERIC)\n",
    "df_covid_from_result_table_6000.to_csv('df_covid_from_result_table_6000.csv',index=False, encoding='utf-8', quoting=csv.QUOTE_NONNUMERIC)"
   ]
  },
  {
   "cell_type": "code",
   "execution_count": null,
   "metadata": {},
   "outputs": [],
   "source": []
  },
  {
   "cell_type": "code",
   "execution_count": null,
   "metadata": {},
   "outputs": [],
   "source": [
    "##ICD10 Codes selected by Aaron and Dr. Shakar (Condition Codes)\n",
    "selected_icd10_codes =('150.1','150.5','150.9','307.81','322.9','339','345',\n",
    "                       '426','427.5','435.9','518.81','780','780.6','784','785.52','995.9',\n",
    "                       '995.91','995.92','995.93','995.94','B20','B97.35','E10','E11','E13',\n",
    "                       'E14','E66.0','E66.09','E66.1','E66.2','E66.3','E66.8','E66.9',\n",
    "                       'F10.1','F10.2','F10.9','G04.30','G40','G47.3','G47.30','G47.31',\n",
    "                       'G47.32','G47.33','G47.34','G47.35','G47.36','G47.37','G47.39','G61.0',\n",
    "                       'G93.40','G93.41','G93.49','I10','I11','I11.0','I11.9','I12.0','I12.9',\n",
    "                       'I13.0','I13.10','I13.11','I13.2','I15.0','I15.1','I15.2','I15.8',\n",
    "                       'I15.9','I21.01','I21.02','I21.09','I21.11','I21.19','I21.21','I21.29',\n",
    "                       'I21.3','I21.4','I22.2','I25.1','I44.0','I44.1','I44.2','I44.30','I44.39',\n",
    "                       'I46','I46.2','I46.8','I46.9','I48','I48.0','I48.1','I48.11','I48.19',\n",
    "                       'I48.2','I48.20','I48.21','I48.3','I48.4','I48.9','I48.91','I48.92',\n",
    "                       'I67.81','I67.82','I67.83','I67.9','I68.0','I68.2','I69.00','I69.01',\n",
    "                       'I69.010','I69.011','I69.014','I73.9','I74.10','I74.11','I74.19','I74.2',\n",
    "                       'I74.3','I74.4','I74.5','I74.8','I74.9','I82.210''I82.220','I82.290',\n",
    "                       'I82.4','I85.01','I85.11','J44','J44.0','J44.1','J44.9','J45.2','J45.20',\n",
    "                       'J45.21','J45.22','J45.3','J45.30','J45.31','J45.32','J45.40','J45.41',\n",
    "                       'J45.42','J45.5','J45.50','J45.51','J45.52','J45.901','J45.902','J45.909',\n",
    "                       'J45.990','J45.991','J45.998','J80','K22.11','K22.6','K29.01','K29.21',\n",
    "                       'K29.31','K29.41','K29.51','K29.61','K29.71','K29.81','K29.91','K31.811',\n",
    "                       'K31.82','K50.011','K50.111','K50.811','K50.911','K51.011','K51.211',\n",
    "                       'K51.311','K51.411','K51.511','K51.811','K51.911','K57.01','K57.11',\n",
    "                       'K70','K70.0','K70.1','K70.10','K70.11','K70.2','K70.3','K70.30','K70.31',\n",
    "                       'K70.4','K70.40','K70.41','K70.9','K72.0','K72.00','K72.01','K72.1',\n",
    "                       'K72.10','K72.11','K72.9','K72.90','K72.91','K74','K74.0','K74.1','K74.2',\n",
    "                       'K74.3','K74.4','K74.5','K74.6','K74.60','K74.69','K75.8','K75.89','K75.9',\n",
    "                       'K76.0','K76.1','K76.2','K76.3','K76.4','K76.5','K76.6','K76.7','K76.81',\n",
    "                       'K76.89','K76.9','K77','K85','K85.0''K85.00','K85.01','K85.02','K85.1',\n",
    "                       'K85.10','K85.11','K85.12','K85.2','K85.20','K85.21','K85.22','K85.3',\n",
    "                       'K85.30','K85.31','K85.32','K85.8','K85.80','K85.81','K85.82','K85.9',\n",
    "                       'K85.90','K85.91','K85.92','K86.0','K86.1','K92.0','K92.1','N17','N17.0',\n",
    "                       'N17.1','N17.2','N17.8','N17.9','N18','N18.1','N18.2','N18.3','N18.4',\n",
    "                       'N18.5','N18.6','N18.9','N19','R00.1','R16.0','R17','R45.1','R51','R65.2',\n",
    "                       'R65.20','R65.21','R74.0','V45.11','V45.12','Z21','Z71.41','Z91.15',\n",
    "                       'Z92.81','Z94.4','Z99.0','Z99.11','Z99.12','Z99.2','Z99.3','Z99.81','Z99.89')"
   ]
  },
  {
   "cell_type": "code",
   "execution_count": null,
   "metadata": {},
   "outputs": [],
   "source": [
    "##Procedure Codes selected by Aaron and Dr. Shakar (Condition Codes)\n",
    "selected_procedure_codes = ('43260','43261','43262','43263','43264','43265','43277','43278','43274',\n",
    "                            '43275','43276','43232','43238','43242','44407','45342','45392','43191',\n",
    "                            '43193','43197','43198','43200','43202','43235','43239','44360','44361',\n",
    "                            '44376','44377','44380','44382','44388','44389','45330','45331','45378',\n",
    "                            '45380','43231','43237','43259','44406','45341','45391','43195','43196',\n",
    "                            '43213','43214','43220','43226','43233','43245','43248','43249','44381',\n",
    "                            '44405','45340','45386','43194','43215','43247','44363','44390','45332',\n",
    "                            '45379','43216','43250','44365','44392','45333','45384','43217','43251',\n",
    "                            '44364','44394','45338','45385','43229','43270','44369','44401','45346',\n",
    "                            '45388','43227','43255','44366','44378','44391','45334','45382','43204',\n",
    "                            '43243','43205','43244','43212','43266','44370','44379','44384','44402',\n",
    "                            '45347','45389','43246','43762','43763','44372','44373','49450','43192',\n",
    "                            '43201','43236','44404','45335','45381','43232','43238','43242','44407',\n",
    "                            '45342','45392')"
   ]
  },
  {
   "cell_type": "code",
   "execution_count": null,
   "metadata": {},
   "outputs": [],
   "source": [
    "##selecting the IDs for extracting the information from the condition table\n",
    "selected_personID_cond_AND_proc = df_covidPatients_personID[5000:6000] #Change the range manually\n",
    "\n",
    "\n",
    "##extracting information from the condiiton table\n",
    "counter = 0\n",
    "start_time = time.time()\n",
    "\n",
    "df_covid_from_condition_table_6000 = pd.DataFrame() #Change Name \n",
    "df_covid_from_procedure_table_6000 = pd.DataFrame() #Change Name\n",
    "\n",
    "for id in selected_personID_cond_AND_proc:\n",
    "    #print(id)\n",
    "    \n",
    "    #table: procedure\n",
    "    query_2 = \"SELECT personid, codetype, procedurecode, procedure, servicestartdate, serviceenddate from procedure WHERE personid='{0}' AND year(servicestartdate) = 2020 AND procedurecode IN {1}\".format(id, selected_procedure_codes)\n",
    "    df_id_2 = sqlContext.sql(query_2).toPandas()\n",
    "    df_covid_from_procedure_table_6000 = pd.concat([df_covid_from_procedure_table_6000,df_id_2]) #Change Name\n",
    "\n",
    "\n",
    "    #table: condition\n",
    "    query = \"SELECT personid, conditioncode, condition, classification from condition WHERE personid='{0}' AND conditioncode IN {1}\".format(id, selected_icd10_codes)\n",
    "    df_id = sqlContext.sql(query).toPandas() \n",
    "    df_covid_from_condition_table_6000 = pd.concat([df_covid_from_condition_table_6000,df_id]) #Change Name\n",
    "    \n",
    "    counter = counter + 1\n",
    "    if(counter%100 == 0):\n",
    "        print(\"Counter Number: {0}\".format(counter))\n",
    "print(\"Counter Number: {0}\".format(counter))\n",
    "print(\"Time: {0}\".format(time.time()-start_time))\n",
    "\n",
    "##Save output in csv\n",
    "##Change Names Here\n",
    "df_covid_from_procedure_table_6000.to_csv('df_covid_from_procedure_table_6000.csv',index=False, encoding='utf-8', quoting=csv.QUOTE_NONNUMERIC)\n",
    "df_covid_from_condition_table_6000.to_csv('df_covid_from_condition_table_6000.csv',index=False, encoding='utf-8', quoting=csv.QUOTE_NONNUMERIC)\n"
   ]
  },
  {
   "cell_type": "code",
   "execution_count": null,
   "metadata": {},
   "outputs": [],
   "source": [
    "#################################\n",
    "##Date: 11/20/20 Code to run for Aaron"
   ]
  },
  {
   "cell_type": "code",
   "execution_count": null,
   "metadata": {},
   "outputs": [],
   "source": [
    "##extracting the condition and results for the FIRST 1000 \n",
    "extracted_deceased_personIDs = deceased_personIDs_series[0:1000]\n",
    "\n",
    "##extracting from the result table \n",
    "counter = 0\n",
    "start_time = time.time()\n",
    "\n",
    "#create an Empty DataFrame object\n",
    "df_demo_condition_table_deceased_1000 = pd.DataFrame() #Change Name \n",
    "\n",
    "for id in extracted_deceased_personIDs:\n",
    "    #print(id)\n",
    "\n",
    "    #table: condition\n",
    "    query = \"SELECT personid, conditioncode, condition, classification from condition WHERE personid='{0}' AND conditioncode IN {1}\".format(id, selected_icd10_codes)\n",
    "    df_id = sqlContext.sql(query).toPandas() \n",
    "    df_demo_condition_table_deceased_1000 = pd.concat([df_demo_condition_table_deceased_1000,df_id]) #Change Name\n",
    "\n",
    "    counter = counter + 1\n",
    "    if(counter%100 == 0):\n",
    "        print(\"Counter Number: {0}\".format(counter))\n",
    "print(\"Counter Number: {0}\".format(counter))\n",
    "print(\"Time: {0}\".format(time.time()-start_time))\n",
    "\n",
    "\n",
    "# Save output in csv\n",
    "#Change Names Here\n",
    "df_demo_condition_table_deceased_1000.to_csv('df_demo_condition_table_deceased_1000.csv',index=False, encoding='utf-8', quoting=csv.QUOTE_NONNUMERIC)\n"
   ]
  },
  {
   "cell_type": "code",
   "execution_count": null,
   "metadata": {},
   "outputs": [],
   "source": [
    "##extracting the condition and results for the 1000 onwards\n",
    "extracted_deceased_personIDs = deceased_personIDs_series[1000:2000]\n",
    "\n",
    "##extracting from the result table \n",
    "counter = 0\n",
    "start_time = time.time()\n",
    "\n",
    "#create an Empty DataFrame object\n",
    "df_demo_condition_table_deceased_2000 = pd.DataFrame() #Change Name \n",
    "df_demo_result_table_deceased_2000 = pd.DataFrame() #Change Name\n",
    "\n",
    "for id in extracted_deceased_personIDs:\n",
    "    #print(id)\n",
    "\n",
    "    #table: condition\n",
    "    query = \"SELECT personid, conditioncode, condition, classification from condition WHERE personid='{0}' AND conditioncode IN {1}\".format(id, selected_icd10_codes)\n",
    "    df_id = sqlContext.sql(query).toPandas() \n",
    "    df_demo_condition_table_deceased_2000 = pd.concat([df_demo_condition_table_deceased_2000,df_id]) #Change Name\n",
    "\n",
    "    #table: result\n",
    "    query_3 = \"SELECT personid, result, textvalue, numericvalue, numericvaluemodifier, unitofmeasure, servicedate from result WHERE personid='{0}' AND  year(servicedate) = 2020 AND result IN {1}\".format(id, RequiredResultColumn)\n",
    "    df_id_3 = sqlContext.sql(query_3).toPandas()\n",
    "    df_demo_result_table_deceased_2000 = pd.concat([df_demo_result_table_deceased_2000,df_id_3]) #Change Name\n",
    "\n",
    "    counter = counter + 1\n",
    "    if(counter%100 == 0):\n",
    "        print(\"Counter Number: {0}\".format(counter))\n",
    "print(\"Counter Number: {0}\".format(counter))\n",
    "print(\"Time: {0}\".format(time.time()-start_time))\n",
    "\n",
    "\n",
    "# Save output in csv\n",
    "#Change Names Here\n",
    "df_demo_condition_table_deceased_2000.to_csv('df_demo_condition_table_deceased_2000.csv',index=False, encoding='utf-8', quoting=csv.QUOTE_NONNUMERIC)\n",
    "df_demo_result_table_deceased_2000.to_csv('df_demo_result_table_deceased_2000.csv',index=False, encoding='utf-8', quoting=csv.QUOTE_NONNUMERIC)\n"
   ]
  },
  {
   "cell_type": "code",
   "execution_count": null,
   "metadata": {},
   "outputs": [],
   "source": []
  },
  {
   "cell_type": "code",
   "execution_count": null,
   "metadata": {},
   "outputs": [],
   "source": []
  },
  {
   "cell_type": "code",
   "execution_count": null,
   "metadata": {},
   "outputs": [],
   "source": []
  }
 ],
 "metadata": {
  "kernelspec": {
   "display_name": "Python 3",
   "language": "python",
   "name": "python3"
  },
  "language_info": {
   "codemirror_mode": {
    "name": "ipython",
    "version": 3
   },
   "file_extension": ".py",
   "mimetype": "text/x-python",
   "name": "python",
   "nbconvert_exporter": "python",
   "pygments_lexer": "ipython3",
   "version": "3.7.3"
  },
  "latex_envs": {
   "LaTeX_envs_menu_present": true,
   "autoclose": true,
   "autocomplete": true,
   "bibliofile": "biblio.bib",
   "cite_by": "apalike",
   "current_citInitial": 1,
   "eqLabelWithNumbers": true,
   "eqNumInitial": 1,
   "hotkeys": {
    "equation": "Ctrl-E",
    "itemize": "Ctrl-I"
   },
   "labels_anchors": false,
   "latex_user_defs": false,
   "report_style_numbering": false,
   "user_envs_cfg": false
  }
 },
 "nbformat": 4,
 "nbformat_minor": 4
}
