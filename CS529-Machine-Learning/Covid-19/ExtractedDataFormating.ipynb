{
 "cells": [
  {
   "cell_type": "code",
   "execution_count": null,
   "metadata": {},
   "outputs": [],
   "source": [
    "import os\n",
    "import pandas as pd\n",
    "import numpy as np\n",
    "import csv\n",
    "from scipy import spatial\n",
    "from matplotlib import pyplot as plt"
   ]
  },
  {
   "cell_type": "code",
   "execution_count": null,
   "metadata": {},
   "outputs": [],
   "source": [
    "#Summary\n",
    "\n",
    "#1st we need dataset for all thre 66K patients based on Covid Table\n",
    "#Currently we are having demographic info of 117K patients\n",
    "#Tables we are looking into : demographics, covid_labs, condition, medication, procedure, and result\n",
    "#Now upload the dataset from the folders and do the following analysis\n",
    "# Converting the string to numeric\n",
    "# Plot the distribution (histogram) of each column to see the skewness\n",
    "# Then finalize the dataset that will be used for further eval\n",
    "\n",
    "# Our spreadsheet contains variables from multiple research projects\n",
    "# Various sub project on gi , neuro , pulmonary , cards ,  Endo\n",
    "# The ultimate goal is to predict which patients will likely die from COVID-19\n",
    "# The attributes for each patient will be based off of the fields from each row of the spreadsheet\n",
    "# These fields are pulled from each of the tables demographics, covid_labs, condition, medication, procedure, and result\n",
    "# For the Data Mining project we will restrict to these tables: demographics, covid_labs and result\n",
    "\n",
    "# Of the patients we observed in June of 2020, what factors lead to COVID-19 patient death\n",
    "# Objective: Deceased: 0 vs 1\n"
   ]
  },
  {
   "cell_type": "code",
   "execution_count": null,
   "metadata": {},
   "outputs": [],
   "source": [
    "##this function is  file loader\n",
    "def loadCSVfile(file_name, columns_name, separator=None):\n",
    "    megabyte_div = 1048576\n",
    "    file_size = os.path.getsize(file_name)/megabyte_div\n",
    "\n",
    "    # maximum file size in MB to read in one iteration\n",
    "    file_size_limit = 100\n",
    "\n",
    "    if file_size > file_size_limit:\n",
    "        # no of row to read in one iteration\n",
    "        chunk_size = 10000\n",
    "        temporary_data_list = []\n",
    "\n",
    "        # if columns_name is provided, use them. Otherwise read all columns\n",
    "        if columns_name:\n",
    "            for chunk in pd.read_csv(file_name, chunksize=chunk_size, sep=',', usecols=columns_name, engine='python' ):\n",
    "                temporary_data_list.append(chunk)\n",
    "        else:\n",
    "            for chunk in pd.read_csv(file_name, chunksize=chunk_size, sep=',', engine='python'):\n",
    "                temporary_data_list.append(chunk)\n",
    "\n",
    "        data_frame = pd.concat(temporary_data_list, axis=0)\n",
    "        del temporary_data_list, chunk\n",
    "    else:\n",
    "        if columns_name:\n",
    "            data_frame = pd.read_csv(file_name, sep=',', usecols=columns_name, engine='python')\n",
    "        else:\n",
    "            data_frame = pd.read_csv(file_name, sep=',', engine='python')\n",
    "\n",
    "    return data_frame"
   ]
  },
  {
   "cell_type": "code",
   "execution_count": null,
   "metadata": {},
   "outputs": [],
   "source": [
    "#extracting the files names from the folder\n",
    "complete_path = \"./result2020\"\n",
    "all_files = glob.glob(complete_path + \"/*.csv\")"
   ]
  },
  {
   "cell_type": "code",
   "execution_count": null,
   "metadata": {},
   "outputs": [],
   "source": [
    "#uploading the files for the results table with covid patients\n",
    "complete_result_df = pd.DataFrame()\n",
    "for file_name in all_files:\n",
    "    print(\"FileName {0}\".format(file_name))\n",
    "    seperator = '/t'\n",
    "    columns_name = ['personid', 'result', 'textvalue', 'numericvalue', 'numericvaluemodifier', 'unitofmeasure', 'servicedate']\n",
    "    data_frame = loadCSVfile(file_name, columns_name, seperator)\n",
    "    complete_result_df = pd.concat([complete_result_df, data_frame])"
   ]
  },
  {
   "cell_type": "code",
   "execution_count": null,
   "metadata": {},
   "outputs": [],
   "source": [
    "complete_result_df.info()"
   ]
  },
  {
   "cell_type": "code",
   "execution_count": null,
   "metadata": {},
   "outputs": [],
   "source": [
    "complete_result_df['personid'].value_counts()"
   ]
  },
  {
   "cell_type": "code",
   "execution_count": null,
   "metadata": {},
   "outputs": [],
   "source": [
    "complete_result_df.count()"
   ]
  },
  {
   "cell_type": "code",
   "execution_count": null,
   "metadata": {},
   "outputs": [],
   "source": [
    "complete_result_df.head(n=10)"
   ]
  },
  {
   "cell_type": "code",
   "execution_count": null,
   "metadata": {},
   "outputs": [],
   "source": [
    "file_name = './df_covid_from_result_table_1000.csv'\n",
    "print('Is the file path available: ', os.path.isfile(file_name))"
   ]
  },
  {
   "cell_type": "code",
   "execution_count": null,
   "metadata": {},
   "outputs": [],
   "source": [
    "seperator = '/t'\n",
    "columns_name = ['personid', 'result', 'textvalue', 'numericvalue', 'numericvaluemodifier', 'unitofmeasure', 'servicedate']\n",
    "data_frame = loadCSVfile(file_name, columns_name, seperator)"
   ]
  },
  {
   "cell_type": "code",
   "execution_count": null,
   "metadata": {},
   "outputs": [],
   "source": [
    "data_frame.head(n=10)"
   ]
  },
  {
   "cell_type": "code",
   "execution_count": null,
   "metadata": {},
   "outputs": [],
   "source": [
    "print(data_frame.isna().sum())"
   ]
  },
  {
   "cell_type": "code",
   "execution_count": null,
   "metadata": {},
   "outputs": [],
   "source": [
    "#extracting the files names from the folder\n",
    "complete_path2 = \"./condition\"\n",
    "all_files_2 = glob.glob(complete_path2 + \"/*.csv\")"
   ]
  },
  {
   "cell_type": "code",
   "execution_count": null,
   "metadata": {},
   "outputs": [],
   "source": [
    "#uploading the files for the results table with covid patients\n",
    "complete_conditions_df = pd.DataFrame()\n",
    "for file_name in all_files_2:\n",
    "    print(\"FileName {0}\".format(file_name))\n",
    "    seperator = '/t'\n",
    "    columns_name = ['personid', 'conditioncode', 'condition', 'classification']\n",
    "    data_frame = loadCSVfile(file_name, columns_name, seperator)\n",
    "    complete_conditions_df = pd.concat([complete_conditions_df, data_frame])"
   ]
  },
  {
   "cell_type": "code",
   "execution_count": null,
   "metadata": {},
   "outputs": [],
   "source": [
    "complete_conditions_df['personid'].value_counts()"
   ]
  },
  {
   "cell_type": "code",
   "execution_count": null,
   "metadata": {},
   "outputs": [],
   "source": [
    "complete_conditions_df.info()"
   ]
  },
  {
   "cell_type": "code",
   "execution_count": null,
   "metadata": {},
   "outputs": [],
   "source": [
    "complete_conditions_df.head(n=10)"
   ]
  },
  {
   "cell_type": "code",
   "execution_count": null,
   "metadata": {},
   "outputs": [],
   "source": [
    "#extracting the files names from the folder\n",
    "complete_path3 = \"./procedure2020\"\n",
    "all_files_3 = glob.glob(complete_path3 + \"/*.csv\")\n",
    "all_files_3"
   ]
  },
  {
   "cell_type": "code",
   "execution_count": null,
   "metadata": {},
   "outputs": [],
   "source": [
    "#uploading the files for the results table with covid patients\n",
    "complete_procedure_df = pd.DataFrame()\n",
    "for file_name in all_files_3:\n",
    "    print(\"FileName {0}\".format(file_name))\n",
    "    seperator = '/t'\n",
    "    columns_name = ['personid', 'codetype', 'procedurecode', 'procedure', 'servicestartdate', 'serviceenddate']\n",
    "    data_frame = loadCSVfile(file_name, columns_name, seperator)\n",
    "    complete_procedure_df = pd.concat([complete_procedure_df, data_frame])"
   ]
  },
  {
   "cell_type": "code",
   "execution_count": null,
   "metadata": {},
   "outputs": [],
   "source": [
    "complete_procedure_df.head(n=10)"
   ]
  },
  {
   "cell_type": "code",
   "execution_count": null,
   "metadata": {},
   "outputs": [],
   "source": [
    "complete_procedure_df['personid'].value_counts()"
   ]
  },
  {
   "cell_type": "code",
   "execution_count": null,
   "metadata": {},
   "outputs": [],
   "source": [
    "RequiredResultColumn = ('Respiratory rate','Heart rate', 'Systolic blood pressure','Diastolic blood pressure',\n",
    "                         'Non-invasive mean arterial pressure','Body temperature',\n",
    "                         'Oxygen saturation in Arterial blood by Pulse oximetry',\n",
    "                         'Inhaled oxygen concentration','Inhaled oxygen flow rate','Oxygen therapy',\n",
    "                         'Oxygen/Inspired gas setting [Volume Fraction] Ventilator',\n",
    "                         'Cholesterol [Mass/volume] in Serum or Plasma',\n",
    "                         'Cholesterol in HDL [Mass/volume] in Serum or Plasma',\n",
    "                         'Cholesterol in LDL [Mass/volume] in Serum or Plasma by calculation',\n",
    "                         'Triglyceride [Mass/volume] in Serum or Plasma',\n",
    "                         'Hemoglobin A1c/Hemoglobin.total in Blood',\n",
    "                         'Protein [Mass/volume] in Serum or Plasma',\n",
    "                         'Albumin [Mass/volume] in Serum or Plasma',\n",
    "                         'Aspartate aminotransferase [Enzymatic activity/volume] in Serum or Plasma',\n",
    "                         'Alanine aminotransferase [Enzymatic activity/volume] in Serum or Plasma',\n",
    "                         'Alkaline phosphatase [Enzymatic activity/volume] in Serum or Plasma',\n",
    "                         'Bilirubin.total [Mass/volume] in Serum or Plasma',\n",
    "                         'Bilirubin.direct [Mass/volume] in Serum or Plasma',\n",
    "                         'Troponin T.cardiac [Mass/volume] in Serum or Plasma',\n",
    "                         'Troponin I.cardiac [Mass/volume] in Serum or Plasma',\n",
    "                         'Troponin I.cardiac [Mass/volume] in Serum or Plasma by High sensitivity method',\n",
    "                         'Natriuretic peptide.B prohormone N-Terminal [Mass/volume] in Serum or Plasma',\n",
    "                         'Natriuretic peptide B [Mass/volume] in Blood',\n",
    "                         'Urate [Mass/volume] in Urine',\n",
    "                         'C reactive protein [Mass/volume] in Serum or Plasma',\n",
    "                         'INR in Platelet poor plasma by Coagulation assay',\n",
    "                         'Prothrombin time (PT)','aPTT in Platelet poor plasma by Coagulation assay',\n",
    "                         'Ferritin [Mass/volume] in Serum or Plasma',\n",
    "                         'Fibrin D-dimer DDU [Mass/volume] in Platelet poor plasma by Immunoassay',\n",
    "                         'Fibrin D-dimer FEU [Mass/volume] in Platelet poor plasma',\n",
    "                         'Leukocytes [#/volume] in Blood by Automated count',\n",
    "                         'Neutrophils [#/volume] in Blood by Automated count',\n",
    "                         'Lymphocytes [#/volume] in Blood by Automated count',\n",
    "                         'Erythrocytes [#/volume] in Blood by Automated count',\n",
    "                         'Hematocrit [Volume Fraction] of Blood by Automated count',\n",
    "                         'Hemoglobin [Mass/volume] in Blood','MCH [Entitic mass] by Automated count',\n",
    "                         'MCHC [Mass/volume] by Automated count','MCV [Entitic volume] by Automated count',\n",
    "                         'Platelets [#/volume] in Blood by Automated count',\n",
    "                         'Creatinine [Mass/volume] in Serum or Plasma',\n",
    "                         'Urea nitrogen [Mass/volume] in Serum or Plasma',\n",
    "                         'Sodium [Moles/volume] in Serum or Plasma',\n",
    "                         'Potassium [Moles/volume] in Serum or Plasma',\n",
    "                         'Magnesium [Mass/volume] in Serum or Plasma',\n",
    "                         'Calcium [Mass/volume] in Serum or Plasma',\n",
    "                         'Calcium.ionized [Moles/volume] in Blood',\n",
    "                         '25-Hydroxyvitamin D2+25-Hydroxyvitamin D3 [Mass/volume] in Serum or Plasma',\n",
    "                         'Ammonia [Moles/volume] in Plasma',\n",
    "                         'Creatine kinase [Enzymatic activity/volume] in Serum or Plasma',\n",
    "                         'Influenza virus A Ag [Presence] in Unspecified specimen by Immunoassay',\n",
    "                         'Influenza virus B Ag [Presence] in Unspecified specimen by Immunoassay',\n",
    "                         'Respiratory syncytial virus RNA [Presence] in Unspecified specimen by NAA with probe detection')"
   ]
  },
  {
   "cell_type": "code",
   "execution_count": null,
   "metadata": {},
   "outputs": [],
   "source": [
    "##extracting the rows based on the selected value of the result column\n",
    "subset_result_df = complete_result_df.loc[complete_result_df['result'].isin(RequiredResultColumn)]"
   ]
  }
 ],
 "metadata": {
  "kernelspec": {
   "display_name": "Python 3",
   "language": "python",
   "name": "python3"
  },
  "language_info": {
   "codemirror_mode": {
    "name": "ipython",
    "version": 3
   },
   "file_extension": ".py",
   "mimetype": "text/x-python",
   "name": "python",
   "nbconvert_exporter": "python",
   "pygments_lexer": "ipython3",
   "version": "3.7.3"
  }
 },
 "nbformat": 4,
 "nbformat_minor": 4
}
